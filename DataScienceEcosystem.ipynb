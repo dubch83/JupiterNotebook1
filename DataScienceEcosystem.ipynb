{
 "cells": [
  {
   "cell_type": "markdown",
   "id": "4adbc82e-0f50-4a21-9ab6-e44d8c7c76b2",
   "metadata": {},
   "source": [
    "# Data Science Tools and Ecosystem"
   ]
  },
  {
   "cell_type": "markdown",
   "id": "35fd4086-72d0-4ef7-9f73-4ef1457345df",
   "metadata": {},
   "source": [
    "In this notebook, Data Science Tools and Ecosystem are summarized."
   ]
  },
  {
   "cell_type": "markdown",
   "id": "1166c264-08ec-4eeb-b388-fd60a3291ea0",
   "metadata": {},
   "source": [
    "**Objectives:**\n",
    "- list popular languages\n",
    "- list commonly used libraries\n",
    "- use markdown"
   ]
  },
  {
   "cell_type": "markdown",
   "id": "7c8e0a3a-88e2-4504-92c1-b547563d6299",
   "metadata": {},
   "source": [
    "Some of the popular languages that Data Scientists use are:\n",
    "1. Python\n",
    "2. R\n",
    "3. Java"
   ]
  },
  {
   "cell_type": "markdown",
   "id": "1ec8a2b6-bb67-4a30-8f3e-1461debcff71",
   "metadata": {},
   "source": [
    "Some of the commonly used libraries used by Data Scientits include:\n",
    "1. ggplot2\n",
    "2. matplotlib\n",
    "3. NumPy"
   ]
  },
  {
   "cell_type": "markdown",
   "id": "692ff318-fdd6-4bba-be39-ba24f229d117",
   "metadata": {},
   "source": [
    "|Data Science Tools|\n",
    "|------------------|\n",
    "|Jupyter Notebook|\n",
    "|RStudio|\n",
    "|Visual Studio Code|"
   ]
  },
  {
   "cell_type": "markdown",
   "id": "74fa91be-04d6-4791-81e0-be6922760543",
   "metadata": {},
   "source": [
    "### Below are a few examples of evaluating arithmetic expressions in Python"
   ]
  },
  {
   "cell_type": "code",
   "execution_count": 22,
   "id": "947898da-b405-4274-8783-54ffa21c6a26",
   "metadata": {},
   "outputs": [
    {
     "data": {
      "text/plain": [
       "17"
      ]
     },
     "execution_count": 22,
     "metadata": {},
     "output_type": "execute_result"
    }
   ],
   "source": [
    "#This is a simple arithmetic expression to multiply then add integers\n",
    "(3*4)+5"
   ]
  },
  {
   "cell_type": "code",
   "execution_count": 25,
   "id": "92e712a6-cc46-4a52-b78d-0bb3408dbc10",
   "metadata": {},
   "outputs": [
    {
     "data": {
      "text/plain": [
       "3.3333333333333335"
      ]
     },
     "execution_count": 25,
     "metadata": {},
     "output_type": "execute_result"
    }
   ],
   "source": [
    "#This will convert 200 minutes to hours by dividing by 60\n",
    "200/60"
   ]
  },
  {
   "cell_type": "markdown",
   "id": "17bb0c9d-5ba6-44ec-9f52-fa05985cab00",
   "metadata": {},
   "source": [
    "## Author\n",
    "Christophe Dubost"
   ]
  }
 ],
 "metadata": {
  "kernelspec": {
   "display_name": "Python [conda env:MyFirstEnv]",
   "language": "python",
   "name": "conda-env-MyFirstEnv-py"
  },
  "language_info": {
   "codemirror_mode": {
    "name": "ipython",
    "version": 3
   },
   "file_extension": ".py",
   "mimetype": "text/x-python",
   "name": "python",
   "nbconvert_exporter": "python",
   "pygments_lexer": "ipython3",
   "version": "3.12.9"
  }
 },
 "nbformat": 4,
 "nbformat_minor": 5
}
